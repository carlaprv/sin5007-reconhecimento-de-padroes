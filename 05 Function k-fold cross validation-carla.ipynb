{
 "cells": [
  {
   "cell_type": "code",
   "execution_count": 11,
   "metadata": {},
   "outputs": [],
   "source": [
    "import pandas as pd # data processing, CSV file I/O (e.g. pd.read_csv)\n",
    "import numpy as np\n",
    "pd.set_option('display.max_columns', None)\n",
    "import numbers"
   ]
  },
  {
   "cell_type": "markdown",
   "metadata": {},
   "source": [
    "## Funções auxiliares"
   ]
  },
  {
   "cell_type": "code",
   "execution_count": 12,
   "metadata": {},
   "outputs": [],
   "source": [
    "def split(a, b, n):\n",
    "    k, m = divmod(len(a), n)\n",
    "    l, p = divmod(len(b), n)\n",
    "    \n",
    "    groups = []\n",
    "    \n",
    "    for i in range(n):\n",
    "        g1 = a[i * k + min(i, m):(i + 1) * k + min(i + 1, m)]\n",
    "        g2 = b[i * l + min(i, p):(i + 1) * l + min(i + 1, p)]\n",
    "        groups.append((len(g1), len(g2)))\n",
    "    return groups"
   ]
  },
  {
   "cell_type": "code",
   "execution_count": 13,
   "metadata": {},
   "outputs": [],
   "source": [
    "def check_k(k, rows):\n",
    "    if k == 1:\n",
    "        raise ValueError(\"Expected number of folds higher than 1. Got %s.\" % k)\n",
    "    if not (isinstance(k, numbers.Integral)):\n",
    "        raise ValueError(\"Expected number of folds as an integer. Got %s.\" % k)\n",
    "    if k > rows:\n",
    "        raise ValueError(\"Expected number of folds lower than dataset instances. Got %s.\" % k)"
   ]
  },
  {
   "cell_type": "markdown",
   "metadata": {},
   "source": [
    "## Função final"
   ]
  },
  {
   "cell_type": "code",
   "execution_count": 14,
   "metadata": {},
   "outputs": [],
   "source": [
    "def StratifiedKFold(X, y, k):\n",
    "    \"\"\"Stratified K-Folds cross-validator\n",
    "\n",
    "    Parameters\n",
    "    ----------\n",
    "    dataset : dataframe\n",
    "    \n",
    "    X : array-like, shape (n_samples, n_features)\n",
    "        Training data, where n_samples is the number of samples\n",
    "        and n_features is the number of features.\n",
    "            \n",
    "    y : array-like, of length n_samples\n",
    "        The target variable for supervised learning problems.\n",
    "\n",
    "    k : int\n",
    "        Determines the number of folds.\n",
    "\n",
    "\n",
    "    print information:\n",
    "        k = 3, dataset: X instances, P positive, N negative (P%, N%)\n",
    "\n",
    "        Fold 0: pos: xx, neg: yy, total: cc, proportion: P%, N%\n",
    "        ....\n",
    "\n",
    "    \"\"\"\n",
    "\n",
    "    # get dataset rows: instances , columns: features\n",
    "    rows, columns = X.shape\n",
    "\n",
    "    # check if k is a valid number of folds\n",
    "    check_k(k, rows) \n",
    "\n",
    "    # get proportion from target\n",
    "    (unique, counts) = np.unique(y, return_counts=True) \n",
    "\n",
    "    # calculate percentage\n",
    "    prop_neg = int(counts[0]/rows*100)\n",
    "    prop_pos = int(counts[1]/rows*100)\n",
    "\n",
    "    print(\"k = {}, Dataset: {} positivas, {} negativas ({}% x {}%)\".format(k, counts[1], counts[0], prop_pos, prop_neg))\n",
    "\n",
    "    # map index positions on target for class 0 and class 1\n",
    "    class_0_index = [idx for idx, j in enumerate(y) if j==unique[0]]\n",
    "    class_1_index = [idx for idx, j in enumerate(y) if j==unique[1]]\n",
    "\n",
    "    # map usage of each instance\n",
    "    bool_0_index = [False] * len(class_0_index)\n",
    "    bool_1_index = [False] * len(class_1_index)\n",
    "\n",
    "    # calculate folds size\n",
    "    fold_size = split(class_0_index, class_1_index, k)   \n",
    "\n",
    "    folds = []\n",
    "    for idx, f in enumerate(fold_size):\n",
    "        temp_neg = int(f[0])\n",
    "        temp_pos = int(f[1])\n",
    "        total = temp_neg+temp_pos\n",
    "        prop_temp_neg = int(temp_neg/total*100)\n",
    "        prop_temp_pos = int(temp_pos/total*100)\n",
    "        print(\"Fold {}: Pos: {}, Neg: {}, Total: {}, Proporção: {}% x {}%\".format(idx, temp_pos, temp_neg, total, prop_temp_pos, prop_temp_neg))"
   ]
  },
  {
   "cell_type": "markdown",
   "metadata": {},
   "source": [
    "## Rodando a função"
   ]
  },
  {
   "cell_type": "code",
   "execution_count": 19,
   "metadata": {},
   "outputs": [],
   "source": [
    "# Carga da base original\n",
    "df = pd.read_csv('dataset/dataset-normalizado.csv', header = 0)"
   ]
  },
  {
   "cell_type": "code",
   "execution_count": 21,
   "metadata": {},
   "outputs": [],
   "source": [
    "X = df.drop('is_approved',axis=1)\n",
    "y = df['is_approved']"
   ]
  },
  {
   "cell_type": "code",
   "execution_count": 22,
   "metadata": {},
   "outputs": [
    {
     "name": "stdout",
     "output_type": "stream",
     "text": [
      "k = 5, Dataset: 557 positivas, 487 negativas (53% x 46%)\n",
      "Fold 0: Pos: 112, Neg: 98, Total: 210, Proporção: 53% x 46%\n",
      "Fold 1: Pos: 112, Neg: 98, Total: 210, Proporção: 53% x 46%\n",
      "Fold 2: Pos: 111, Neg: 97, Total: 208, Proporção: 53% x 46%\n",
      "Fold 3: Pos: 111, Neg: 97, Total: 208, Proporção: 53% x 46%\n",
      "Fold 4: Pos: 111, Neg: 97, Total: 208, Proporção: 53% x 46%\n"
     ]
    }
   ],
   "source": [
    "StratifiedKFold(X, y, 5)"
   ]
  },
  {
   "cell_type": "code",
   "execution_count": null,
   "metadata": {},
   "outputs": [],
   "source": []
  }
 ],
 "metadata": {
  "kernelspec": {
   "display_name": "Python 3",
   "language": "python",
   "name": "python3"
  },
  "language_info": {
   "codemirror_mode": {
    "name": "ipython",
    "version": 3
   },
   "file_extension": ".py",
   "mimetype": "text/x-python",
   "name": "python",
   "nbconvert_exporter": "python",
   "pygments_lexer": "ipython3",
   "version": "3.7.5"
  }
 },
 "nbformat": 4,
 "nbformat_minor": 2
}
