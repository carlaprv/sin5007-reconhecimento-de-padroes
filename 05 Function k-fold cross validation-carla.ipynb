{
 "cells": [
  {
   "cell_type": "code",
   "execution_count": 495,
   "metadata": {},
   "outputs": [],
   "source": [
    "import pandas as pd # data processing, CSV file I/O (e.g. pd.read_csv)\n",
    "import numpy as np\n",
    "pd.set_option('display.max_columns', None)\n",
    "import numbers"
   ]
  },
  {
   "cell_type": "code",
   "execution_count": 496,
   "metadata": {},
   "outputs": [],
   "source": [
    "# Carga da base original\n",
    "df = pd.read_csv('dataset/dataset-normalizado.csv', header = 0)\n",
    "\n",
    "# Reordena colocando a coluna is_approved no final da tabela\n",
    "df = df[['school', 'sex', 'age', 'address', 'famsize', 'Pstatus',\n",
    "       'traveltime', 'studytime', 'failures', 'schoolsup', 'famsup', 'paid',\n",
    "       'activities', 'nursery', 'higher', 'internet', 'romantic', 'famrel',\n",
    "       'freetime', 'goout', 'Dalc', 'Walc', 'health', 'absences', 'Medu_0',\n",
    "       'Medu_1', 'Medu_2', 'Medu_3', 'Medu_4', 'Fedu_0', 'Fedu_1', 'Fedu_2',\n",
    "       'Fedu_3', 'Fedu_4', 'Mjob_at_home', 'Mjob_health', 'Mjob_other',\n",
    "       'Mjob_services', 'Mjob_teacher', 'Fjob_at_home', 'Fjob_health',\n",
    "       'Fjob_other', 'Fjob_services', 'Fjob_teacher', 'reason_course',\n",
    "       'reason_home', 'reason_other', 'reason_reputation', 'guardian_father',\n",
    "       'guardian_mother', 'guardian_other', 'is_approved']]\n"
   ]
  },
  {
   "cell_type": "code",
   "execution_count": 497,
   "metadata": {},
   "outputs": [
    {
     "data": {
      "text/plain": [
       "1044"
      ]
     },
     "execution_count": 497,
     "metadata": {},
     "output_type": "execute_result"
    }
   ],
   "source": [
    "len(df)"
   ]
  },
  {
   "cell_type": "markdown",
   "metadata": {},
   "source": [
    "## Rascunho da função"
   ]
  },
  {
   "cell_type": "code",
   "execution_count": null,
   "metadata": {},
   "outputs": [],
   "source": [
    "df_copy = df\n",
    "X = df.drop(df.columns[-1], axis=1)\n",
    "y = df[df.columns[-1]]\n",
    "\n",
    "X = X.to_numpy()\n",
    "y = y.to_numpy()"
   ]
  },
  {
   "cell_type": "code",
   "execution_count": null,
   "metadata": {},
   "outputs": [],
   "source": [
    "k = 5\n",
    "rows, columns = X.shape\n",
    "\n",
    "# check if k is a valid number of folds\n",
    "check_k(k, rows) \n",
    "\n",
    "# get proportion from target\n",
    "(unique, counts) = np.unique(y, return_counts=True) \n",
    "\n",
    "# calculate percentage\n",
    "prop_neg = counts[0]/rows*100\n",
    "prop_pos = counts[1]/rows*100\n",
    "\n",
    "print(\"k = {}, Dataset: {} positivas, {} negativas ({:.2f}% x {:.2f}%)\".format(k, counts[1], counts[0], prop_pos, prop_neg))\n",
    "\n",
    "# calculate folds size\n",
    "fold_size = split(class_0_index, class_1_index, k)   "
   ]
  },
  {
   "cell_type": "code",
   "execution_count": null,
   "metadata": {},
   "outputs": [],
   "source": [
    "folds = []\n",
    "for idx, f in enumerate(fold_size):\n",
    "    temp_neg = int(f[0])\n",
    "    temp_pos = int(f[1])\n",
    "    total = temp_neg+temp_pos\n",
    "    prop_temp_neg = temp_neg/total*100\n",
    "    prop_temp_pos = temp_pos/total*100\n",
    "    print(\"Fold {}: Pos: {}, Neg: {}, Total: {}, Proporção: {:.2f}% , {:.2f}%\".format(idx, temp_pos, temp_neg, total, prop_temp_pos, prop_temp_neg))\n",
    "    "
   ]
  },
  {
   "cell_type": "code",
   "execution_count": null,
   "metadata": {},
   "outputs": [],
   "source": [
    "# map index positions on target for class 0 and class 1\n",
    "class_0_index = [idx for idx, j in enumerate(y) if j==unique[0]]\n",
    "class_1_index = [idx for idx, j in enumerate(y) if j==unique[1]]\n",
    "\n",
    "# map usage of each instance\n",
    "bool_0_index = [False] * len(class_0_index)\n",
    "bool_1_index = [False] * len(class_1_index)"
   ]
  },
  {
   "cell_type": "markdown",
   "metadata": {},
   "source": [
    "## Funções auxiliares"
   ]
  },
  {
   "cell_type": "code",
   "execution_count": 514,
   "metadata": {},
   "outputs": [],
   "source": [
    "def split(a, b, n):\n",
    "    k, m = divmod(len(a), n)\n",
    "    l, p = divmod(len(b), n)\n",
    "    \n",
    "    groups = []\n",
    "    \n",
    "    for i in range(n):\n",
    "        g1 = a[i * k + min(i, m):(i + 1) * k + min(i + 1, m)]\n",
    "        g2 = b[i * l + min(i, p):(i + 1) * l + min(i + 1, p)]\n",
    "        groups.append((len(g1), len(g2)))\n",
    "    return groups"
   ]
  },
  {
   "cell_type": "code",
   "execution_count": 519,
   "metadata": {},
   "outputs": [],
   "source": [
    "def check_k(k, rows):\n",
    "    if k == 1:\n",
    "        raise ValueError(\"Expected number of folds higher than 1. Got %s.\" % k)\n",
    "    if not (isinstance(k, numbers.Integral)):\n",
    "        raise ValueError(\"Expected number of folds as an integer. Got %s.\" % k)\n",
    "    if k > rows:\n",
    "        raise ValueError(\"Expected number of folds lower than dataset instances. Got %s.\" % k)"
   ]
  },
  {
   "cell_type": "markdown",
   "metadata": {},
   "source": [
    "## Função final"
   ]
  },
  {
   "cell_type": "code",
   "execution_count": 516,
   "metadata": {},
   "outputs": [],
   "source": [
    "def StratifiedKFold(df, k):\n",
    "    \"\"\"Stratified K-Folds cross-validator\n",
    "\n",
    "    Parameters\n",
    "    ----------\n",
    "    dataset : dataframe\n",
    "\n",
    "    k : int\n",
    "        Determines the number of folds.\n",
    "\n",
    "\n",
    "    print information:\n",
    "        k = 3, dataset: X instances, P positive, N negative (P%, N%)\n",
    "\n",
    "        Fold 0: pos: xx, neg: yy, total: cc, proportion: P%, N%\n",
    "        ....\n",
    "\n",
    "    \"\"\"\n",
    "\n",
    "    df_copy = df\n",
    "    \n",
    "    # transform data to numpy array\n",
    "    X = df.drop(df.columns[-1], axis=1).to_numpy()\n",
    "    y = df[df.columns[-1]].to_numpy()\n",
    "\n",
    "    # get dataset rows = instances and columns = features\n",
    "    rows, columns = X.shape\n",
    "\n",
    "    # check if k is a valid number of folds\n",
    "    check_k(k, rows) \n",
    "\n",
    "    # get proportion from target\n",
    "    (unique, counts) = np.unique(y, return_counts=True) \n",
    "\n",
    "    # calculate percentage\n",
    "    prop_neg = counts[0]/rows*100\n",
    "    prop_pos = counts[1]/rows*100\n",
    "\n",
    "    print(\"k = {}, Dataset: {} positivas, {} negativas ({:.2f}% x {:.2f}%)\".format(k, counts[1], counts[0], prop_pos, prop_neg))\n",
    "\n",
    "    # calculate folds size\n",
    "    fold_size = split(class_0_index, class_1_index, k)   \n",
    "\n",
    "    folds = []\n",
    "    for idx, f in enumerate(fold_size):\n",
    "        temp_neg = int(f[0])\n",
    "        temp_pos = int(f[1])\n",
    "        total = temp_neg+temp_pos\n",
    "        prop_temp_neg = temp_neg/total*100\n",
    "        prop_temp_pos = temp_pos/total*100\n",
    "        print(\"Fold {}: Pos: {}, Neg: {}, Total: {}, Proporção: {:.2f}% , {:.2f}%\".format(idx, temp_pos, temp_neg, total, prop_temp_pos, prop_temp_neg))"
   ]
  },
  {
   "cell_type": "code",
   "execution_count": 526,
   "metadata": {},
   "outputs": [
    {
     "name": "stdout",
     "output_type": "stream",
     "text": [
      "k = 5, Dataset: 557 positivas, 487 negativas (53.35% x 46.65%)\n",
      "Fold 0: Pos: 112, Neg: 98, Total: 210, Proporção: 53.33% , 46.67%\n",
      "Fold 1: Pos: 112, Neg: 98, Total: 210, Proporção: 53.33% , 46.67%\n",
      "Fold 2: Pos: 111, Neg: 97, Total: 208, Proporção: 53.37% , 46.63%\n",
      "Fold 3: Pos: 111, Neg: 97, Total: 208, Proporção: 53.37% , 46.63%\n",
      "Fold 4: Pos: 111, Neg: 97, Total: 208, Proporção: 53.37% , 46.63%\n"
     ]
    }
   ],
   "source": [
    "StratifiedKFold(df, 5)"
   ]
  },
  {
   "cell_type": "code",
   "execution_count": null,
   "metadata": {},
   "outputs": [],
   "source": []
  }
 ],
 "metadata": {
  "kernelspec": {
   "display_name": "Python 3",
   "language": "python",
   "name": "python3"
  },
  "language_info": {
   "codemirror_mode": {
    "name": "ipython",
    "version": 3
   },
   "file_extension": ".py",
   "mimetype": "text/x-python",
   "name": "python",
   "nbconvert_exporter": "python",
   "pygments_lexer": "ipython3",
   "version": "3.7.5"
  }
 },
 "nbformat": 4,
 "nbformat_minor": 2
}
