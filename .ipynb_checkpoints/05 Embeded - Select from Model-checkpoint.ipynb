{
 "cells": [
  {
   "cell_type": "code",
   "execution_count": 1,
   "metadata": {},
   "outputs": [],
   "source": [
    "### Bibliotecas Utilizadas \n",
    "import numpy as np # linear algebra\n",
    "import pandas as pd # data processing, CSV file I/O (e.g. pd.read_csv)\n",
    "import seaborn as sns # visualize\n",
    "import matplotlib.pyplot as plt"
   ]
  },
  {
   "cell_type": "code",
   "execution_count": 2,
   "metadata": {},
   "outputs": [],
   "source": [
    "# Carga da base original\n",
    "dataset = pd.read_csv('dataset-normalizado.csv', header = 0)\n",
    "\n",
    "# Reordena colocando a coluna is_approved no final da tabela\n",
    "dataset = dataset[['school', 'sex', 'age', 'address', 'famsize', 'Pstatus',\n",
    "       'traveltime', 'studytime', 'failures', 'schoolsup', 'famsup', 'paid',\n",
    "       'activities', 'nursery', 'higher', 'internet', 'romantic', 'famrel',\n",
    "       'freetime', 'goout', 'Dalc', 'Walc', 'health', 'absences', 'Medu_0',\n",
    "       'Medu_1', 'Medu_2', 'Medu_3', 'Medu_4', 'Fedu_0', 'Fedu_1', 'Fedu_2',\n",
    "       'Fedu_3', 'Fedu_4', 'Mjob_at_home', 'Mjob_health', 'Mjob_other',\n",
    "       'Mjob_services', 'Mjob_teacher', 'Fjob_at_home', 'Fjob_health',\n",
    "       'Fjob_other', 'Fjob_services', 'Fjob_teacher', 'reason_course',\n",
    "       'reason_home', 'reason_other', 'reason_reputation', 'guardian_father',\n",
    "       'guardian_mother', 'guardian_other', 'is_approved']]"
   ]
  },
  {
   "cell_type": "code",
   "execution_count": null,
   "metadata": {},
   "outputs": [],
   "source": []
  },
  {
   "cell_type": "markdown",
   "metadata": {},
   "source": [
    "## Biblioteca para selecao de caracteristicas"
   ]
  },
  {
   "cell_type": "code",
   "execution_count": 3,
   "metadata": {},
   "outputs": [],
   "source": [
    "from sklearn.feature_selection import SelectFromModel"
   ]
  },
  {
   "cell_type": "code",
   "execution_count": 4,
   "metadata": {},
   "outputs": [],
   "source": [
    "from sklearn.linear_model import LogisticRegression"
   ]
  },
  {
   "cell_type": "code",
   "execution_count": 5,
   "metadata": {},
   "outputs": [],
   "source": [
    "# # Gera o array com os valores do dataset\n",
    "# array = dataset.values\n",
    "\n",
    "\n",
    "# # Separa em atributos e classe\n",
    "# features = array[:, 0:51]\n",
    "# target = array[:, 51]"
   ]
  },
  {
   "cell_type": "code",
   "execution_count": 6,
   "metadata": {},
   "outputs": [],
   "source": [
    "X = dataset.drop(['is_approved'], axis=1)\n",
    "y = dataset.is_approved\n",
    "feature_name = X.columns.tolist()"
   ]
  },
  {
   "cell_type": "code",
   "execution_count": 7,
   "metadata": {},
   "outputs": [
    {
     "data": {
      "text/plain": [
       "SelectFromModel(estimator=LogisticRegression(C=1.0, class_weight=None,\n",
       "                                             dual=False, fit_intercept=True,\n",
       "                                             intercept_scaling=1, l1_ratio=None,\n",
       "                                             max_iter=100, multi_class='auto',\n",
       "                                             n_jobs=None, penalty='l2',\n",
       "                                             random_state=None, solver='lbfgs',\n",
       "                                             tol=0.0001, verbose=0,\n",
       "                                             warm_start=False),\n",
       "                max_features=None, norm_order=1, prefit=False,\n",
       "                threshold='1.25*median')"
      ]
     },
     "execution_count": 7,
     "metadata": {},
     "output_type": "execute_result"
    }
   ],
   "source": [
    "embeded_lr_selector = SelectFromModel(LogisticRegression(penalty=\"l2\"), '1.25*median')\n",
    "embeded_lr_selector.fit(X, y)"
   ]
  },
  {
   "cell_type": "code",
   "execution_count": 8,
   "metadata": {},
   "outputs": [],
   "source": [
    "embeded_lr_support = embeded_lr_selector.get_support()"
   ]
  },
  {
   "cell_type": "code",
   "execution_count": 9,
   "metadata": {},
   "outputs": [
    {
     "name": "stdout",
     "output_type": "stream",
     "text": [
      "[ True  True False False False False  True  True  True  True  True  True\n",
      " False False  True False False False False  True  True False  True  True\n",
      " False False False False False  True False False False  True  True  True\n",
      " False  True  True False False False False  True False False False False\n",
      " False False False]\n"
     ]
    }
   ],
   "source": [
    "print(embeded_lr_support)"
   ]
  },
  {
   "cell_type": "code",
   "execution_count": 10,
   "metadata": {},
   "outputs": [
    {
     "name": "stdout",
     "output_type": "stream",
     "text": [
      "0.2600717711933072\n"
     ]
    }
   ],
   "source": [
    "embeded_lr_threshold = embeded_lr_selector.threshold_\n",
    "print(embeded_lr_threshold)"
   ]
  },
  {
   "cell_type": "code",
   "execution_count": 11,
   "metadata": {},
   "outputs": [
    {
     "name": "stdout",
     "output_type": "stream",
     "text": [
      "[[-0.61334589 -0.26010281  0.06833156 -0.19146898  0.07336451 -0.04961559\n",
      "  -0.37995378  0.72539476 -3.36409335 -1.00966235 -0.27796469 -0.27517481\n",
      "   0.20805742 -0.07372676  1.44208268  0.23333679 -0.02363993  0.20977243\n",
      "  -0.06466392 -0.71789411 -0.34800759 -0.22349399 -0.33001274 -1.24140826\n",
      "   0.04765891 -0.02890787 -0.03875063 -0.18112086  0.20551146 -0.2682994\n",
      "  -0.2538237   0.07276124 -0.08267408  0.53642695 -0.52982074  0.29975115\n",
      "   0.11684729  0.41365034 -0.29603702  0.04215588 -0.23936913 -0.01824266\n",
      "  -0.11683346  0.33668037 -0.0594262   0.09143743 -0.08475233  0.05713211\n",
      "   0.04699577 -0.13825307  0.09564831]]\n"
     ]
    }
   ],
   "source": [
    "embeded_lr_coef = embeded_lr_selector.estimator_.coef_\n",
    "print(embeded_lr_coef)"
   ]
  },
  {
   "cell_type": "code",
   "execution_count": 12,
   "metadata": {},
   "outputs": [
    {
     "name": "stdout",
     "output_type": "stream",
     "text": [
      "20 selected features\n"
     ]
    }
   ],
   "source": [
    "embeded_lr_feature = X.loc[:,embeded_lr_support].columns.tolist()\n",
    "print(str(len(embeded_lr_feature)), 'selected features')"
   ]
  },
  {
   "cell_type": "code",
   "execution_count": 13,
   "metadata": {},
   "outputs": [
    {
     "data": {
      "text/plain": [
       "['school',\n",
       " 'sex',\n",
       " 'traveltime',\n",
       " 'studytime',\n",
       " 'failures',\n",
       " 'schoolsup',\n",
       " 'famsup',\n",
       " 'paid',\n",
       " 'higher',\n",
       " 'goout',\n",
       " 'Dalc',\n",
       " 'health',\n",
       " 'absences',\n",
       " 'Fedu_0',\n",
       " 'Fedu_4',\n",
       " 'Mjob_at_home',\n",
       " 'Mjob_health',\n",
       " 'Mjob_services',\n",
       " 'Mjob_teacher',\n",
       " 'Fjob_teacher']"
      ]
     },
     "execution_count": 13,
     "metadata": {},
     "output_type": "execute_result"
    }
   ],
   "source": [
    "embeded_lr_feature"
   ]
  }
 ],
 "metadata": {
  "kernelspec": {
   "display_name": "Python 3",
   "language": "python",
   "name": "python3"
  },
  "language_info": {
   "codemirror_mode": {
    "name": "ipython",
    "version": 3
   },
   "file_extension": ".py",
   "mimetype": "text/x-python",
   "name": "python",
   "nbconvert_exporter": "python",
   "pygments_lexer": "ipython3",
   "version": "3.6.5"
  }
 },
 "nbformat": 4,
 "nbformat_minor": 4
}
